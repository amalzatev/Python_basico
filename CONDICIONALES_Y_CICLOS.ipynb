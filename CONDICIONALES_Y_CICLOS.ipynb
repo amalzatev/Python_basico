{
  "nbformat": 4,
  "nbformat_minor": 0,
  "metadata": {
    "colab": {
      "name": "CONDICIONALES Y CICLOS.ipynb",
      "provenance": [],
      "collapsed_sections": [],
      "include_colab_link": true
    },
    "kernelspec": {
      "name": "python3",
      "display_name": "Python 3"
    },
    "language_info": {
      "name": "python"
    }
  },
  "cells": [
    {
      "cell_type": "markdown",
      "metadata": {
        "id": "view-in-github",
        "colab_type": "text"
      },
      "source": [
        "<a href=\"https://colab.research.google.com/github/amalzatev/Python_basico/blob/main/CONDICIONALES_Y_CICLOS.ipynb\" target=\"_parent\"><img src=\"https://colab.research.google.com/assets/colab-badge.svg\" alt=\"Open In Colab\"/></a>"
      ]
    },
    {
      "cell_type": "markdown",
      "metadata": {
        "id": "-CxllnzIkv_2"
      },
      "source": [
        "#CONDICIONALES \n",
        "\n",
        "\n"
      ]
    },
    {
      "cell_type": "code",
      "metadata": {
        "id": "oP9ChmdMjLdh"
      },
      "source": [
        "# if = condición 1; elif = condición 2; else... si no cumple ni 1 ni 2\n",
        "a=10\n",
        "if a>8:\n",
        "  print (\"mayor a 8\")\n",
        "elif a<=4:\n",
        "  print(\"menor a 4\")\n",
        "else:\n",
        "  print(\"el numero esta entre 5 y 8\")"
      ],
      "execution_count": null,
      "outputs": []
    },
    {
      "cell_type": "markdown",
      "metadata": {
        "id": "fNfl-t-Qk4jH"
      },
      "source": [
        "#CICLO FOR"
      ]
    },
    {
      "cell_type": "code",
      "metadata": {
        "id": "4Ul-ypJtk9Dv"
      },
      "source": [
        "D=[1,2,3,4,5]\n",
        "for i in D:\n",
        "  print(i)"
      ],
      "execution_count": null,
      "outputs": []
    },
    {
      "cell_type": "code",
      "metadata": {
        "id": "8RGIEyDmlATk"
      },
      "source": [
        "for i in range(1,11):\n",
        "  print (i)"
      ],
      "execution_count": null,
      "outputs": []
    },
    {
      "cell_type": "code",
      "metadata": {
        "id": "EgbJFQAvlAYd"
      },
      "source": [
        "valores = {'A': 4, 'E': 3, 'I': 1, 'O': 0}\n",
        "for e in valores.values():\n",
        "    print(e)"
      ],
      "execution_count": null,
      "outputs": []
    },
    {
      "cell_type": "code",
      "metadata": {
        "id": "EDFjEAJ1lAjb"
      },
      "source": [
        "for e in valores:\n",
        "  print (e)"
      ],
      "execution_count": null,
      "outputs": []
    },
    {
      "cell_type": "code",
      "metadata": {
        "id": "caeeaT9ulHJc"
      },
      "source": [
        "for i in valores:\n",
        "  print(i)\n",
        "  if i == \"E\":\n",
        "    break"
      ],
      "execution_count": null,
      "outputs": []
    },
    {
      "cell_type": "markdown",
      "metadata": {
        "id": "1yiyPC9zlJCk"
      },
      "source": [
        "#CICLO WHILE"
      ]
    },
    {
      "cell_type": "code",
      "metadata": {
        "id": "H3jzfJQnlNnc"
      },
      "source": [
        "v=5\n",
        "while (v<=10):\n",
        "  print (v)\n",
        "  v=v+1\n",
        "  "
      ],
      "execution_count": null,
      "outputs": []
    }
  ]
}