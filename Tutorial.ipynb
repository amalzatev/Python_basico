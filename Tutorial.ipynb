{
  "nbformat": 4,
  "nbformat_minor": 0,
  "metadata": {
    "colab": {
      "name": "Tutorial.ipynb",
      "provenance": [],
      "collapsed_sections": [],
      "include_colab_link": true
    },
    "kernelspec": {
      "name": "python3",
      "display_name": "Python 3"
    },
    "language_info": {
      "name": "python"
    }
  },
  "cells": [
    {
      "cell_type": "markdown",
      "metadata": {
        "id": "view-in-github",
        "colab_type": "text"
      },
      "source": [
        "<a href=\"https://colab.research.google.com/github/amalzatev/Python_basico/blob/main/Tutorial.ipynb\" target=\"_parent\"><img src=\"https://colab.research.google.com/assets/colab-badge.svg\" alt=\"Open In Colab\"/></a>"
      ]
    },
    {
      "cell_type": "markdown",
      "metadata": {
        "id": "1rvduxL6neKu"
      },
      "source": [
        "\n",
        "---\n"
      ]
    },
    {
      "cell_type": "code",
      "metadata": {
        "colab": {
          "base_uri": "https://localhost:8080/"
        },
        "id": "QmcBEOv7ndq_",
        "outputId": "5767c61a-feb9-42a2-99df-97b50159c8c1"
      },
      "source": [
        "num1 = 10_000_000_000\n",
        "num2 = 100_000_000\n",
        "\n",
        "total = num1 + num2\n",
        "\n",
        "print(f'{total:,}')"
      ],
      "execution_count": null,
      "outputs": [
        {
          "output_type": "stream",
          "text": [
            "10,100,000,000\n"
          ],
          "name": "stdout"
        }
      ]
    },
    {
      "cell_type": "markdown",
      "metadata": {
        "id": "PadIwrYZni82"
      },
      "source": [
        "---"
      ]
    },
    {
      "cell_type": "code",
      "metadata": {
        "colab": {
          "base_uri": "https://localhost:8080/"
        },
        "id": "w4xc0B6mnLOm",
        "outputId": "c2b38e32-7316-4c3d-993a-34ec88fa8289"
      },
      "source": [
        "condition = False\n",
        "\n",
        "x = 1 if condition else 0\n",
        "\n",
        "print(x)"
      ],
      "execution_count": null,
      "outputs": [
        {
          "output_type": "stream",
          "text": [
            "0\n"
          ],
          "name": "stdout"
        }
      ]
    },
    {
      "cell_type": "markdown",
      "metadata": {
        "id": "04TpL7Lzoxkv"
      },
      "source": [
        "---"
      ]
    },
    {
      "cell_type": "code",
      "metadata": {
        "colab": {
          "base_uri": "https://localhost:8080/"
        },
        "id": "3PRtK_rHoyFP",
        "outputId": "42978f5f-d509-4124-ca5f-cdc9773d6465"
      },
      "source": [
        "variables=['Voltage','current','resistance','inductance']\n",
        "\n",
        "index=0\n",
        "for variable in variables:\n",
        "  print(index,variable)\n",
        "  index +=1\n",
        "\n",
        "# for index,variable in enumerate(variables):\n",
        "#   print(index,variable)"
      ],
      "execution_count": null,
      "outputs": [
        {
          "output_type": "stream",
          "text": [
            "0 Voltage\n",
            "1 current\n",
            "2 resistance\n",
            "3 inductance\n"
          ],
          "name": "stdout"
        }
      ]
    },
    {
      "cell_type": "markdown",
      "metadata": {
        "id": "b0yTHjYLpiGJ"
      },
      "source": [
        "---"
      ]
    },
    {
      "cell_type": "code",
      "metadata": {
        "colab": {
          "base_uri": "https://localhost:8080/"
        },
        "id": "tJQiLmOXpij2",
        "outputId": "eb581fa2-a764-42f0-d07d-d21fa4d2a412"
      },
      "source": [
        "variables = ['Voltage','current','resistance','inductance']\n",
        "generators = ['Gen_1','Gen_2','Gen_3','Gen_4']\n",
        "\n",
        "for variable,generator in zip(variables,generators):\n",
        "  print(variable,generator)"
      ],
      "execution_count": null,
      "outputs": [
        {
          "output_type": "stream",
          "text": [
            "Voltage Gen_1\n",
            "current Gen_2\n",
            "resistance Gen_3\n",
            "inductance Gen_4\n"
          ],
          "name": "stdout"
        }
      ]
    },
    {
      "cell_type": "markdown",
      "metadata": {
        "id": "XC_ir8biqJvF"
      },
      "source": [
        "---"
      ]
    },
    {
      "cell_type": "code",
      "metadata": {
        "colab": {
          "base_uri": "https://localhost:8080/"
        },
        "id": "UkJkuJQcqFJu",
        "outputId": "b274ca92-3d66-45cc-e715-a54afdaa8030"
      },
      "source": [
        "a,b,c,lista = (1,2,3,['hola'])\n",
        "print(lista)"
      ],
      "execution_count": null,
      "outputs": [
        {
          "output_type": "stream",
          "text": [
            "['hola']\n"
          ],
          "name": "stdout"
        }
      ]
    },
    {
      "cell_type": "markdown",
      "metadata": {
        "id": "5Bc9bFGcnejm"
      },
      "source": [
        "---"
      ]
    },
    {
      "cell_type": "code",
      "metadata": {
        "colab": {
          "base_uri": "https://localhost:8080/"
        },
        "id": "xkLAcNMSqL6t",
        "outputId": "3b7db0c2-e11d-45a2-ea40-bd86e0699c89"
      },
      "source": [
        "numeros   = [1,2,3,4]\n",
        "\n",
        "numeros_2 = [x**2 for x in numeros]\n",
        "\n",
        "print(numeros)\n",
        "print(numeros_2)"
      ],
      "execution_count": null,
      "outputs": [
        {
          "output_type": "stream",
          "text": [
            "[1, 2, 3, 4]\n",
            "<generator object <genexpr> at 0x7fc767466750>\n"
          ],
          "name": "stdout"
        }
      ]
    },
    {
      "cell_type": "markdown",
      "metadata": {
        "id": "zWNYQ-LQsEDP"
      },
      "source": [
        "---"
      ]
    },
    {
      "cell_type": "code",
      "metadata": {
        "colab": {
          "base_uri": "https://localhost:8080/"
        },
        "id": "0IeC2sIwsEkN",
        "outputId": "d10567ab-302c-4694-f7a5-32f16f59ecd7"
      },
      "source": [
        "def fun_prev(x):\n",
        "  return x**2\n",
        "  \n",
        "fun = lambda numeros: [x**2 for x in numeros]\n",
        "\n",
        "print(fun([1,2,3,4]))"
      ],
      "execution_count": null,
      "outputs": [
        {
          "output_type": "stream",
          "text": [
            "[1, 4, 9, 16]\n"
          ],
          "name": "stdout"
        }
      ]
    },
    {
      "cell_type": "markdown",
      "metadata": {
        "id": "JTpnSPnFnUcO"
      },
      "source": [
        "https://www.youtube.com/watch?v=C-gEQdGVXbk&t=8s&ab_channel=CoreySchafer"
      ]
    },
    {
      "cell_type": "markdown",
      "metadata": {
        "id": "MXezm0rjn2hN"
      },
      "source": [
        "---"
      ]
    },
    {
      "cell_type": "code",
      "metadata": {
        "id": "LVkSZdGgn3K-"
      },
      "source": [
        "# Context Managers\n",
        "\n",
        "f = open('test.txt','w')\n",
        "f.write(\"This is a test 1 !\")\n",
        "f.close()\n",
        "\n",
        "\n",
        "# with open('test.txt','w') as f:\n",
        "#   f.write(\"This is a test 2 !\")"
      ],
      "execution_count": null,
      "outputs": []
    }
  ]
}