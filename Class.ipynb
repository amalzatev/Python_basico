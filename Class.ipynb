{
  "nbformat": 4,
  "nbformat_minor": 0,
  "metadata": {
    "colab": {
      "name": "Class.ipynb",
      "provenance": [],
      "authorship_tag": "ABX9TyOCSp0bBEpn7q28lAEQehaR",
      "include_colab_link": true
    },
    "kernelspec": {
      "name": "python3",
      "display_name": "Python 3"
    },
    "language_info": {
      "name": "python"
    }
  },
  "cells": [
    {
      "cell_type": "markdown",
      "metadata": {
        "id": "view-in-github",
        "colab_type": "text"
      },
      "source": [
        "<a href=\"https://colab.research.google.com/github/amalzatev/Python_basico/blob/main/Class.ipynb\" target=\"_parent\"><img src=\"https://colab.research.google.com/assets/colab-badge.svg\" alt=\"Open In Colab\"/></a>"
      ]
    },
    {
      "cell_type": "markdown",
      "metadata": {
        "id": "p77-0HSFpWlk"
      },
      "source": [
        "# Classes\n",
        "\n",
        "las clases son utilizadas con el proposito de crear tu propio tipo de datos, los cuales pueden ser definidos por algun tipo de usuario"
      ]
    },
    {
      "cell_type": "code",
      "metadata": {
        "id": "Ow8JCWBTGePU"
      },
      "source": [
        "class Persona:\n",
        "\n",
        "    def __init__(self,nombre, personalidad,sentado):\n",
        "      self.nombre = nombre\n",
        "      self.personalidad = personalidad\n",
        "      self.sentado = sentado\n",
        "\n",
        "    def decir_nombre(self):\n",
        "      print('mi nombre es ' + self.nombre)\n",
        "\n",
        "    def pararse(self):\n",
        "      self.sentado = False\n",
        "      print(self.nombre + ' se paró')\n",
        "\n",
        "    def sentarse(self):\n",
        "      self.sentado = True\n",
        "      print(self.nombre + ' se sentó')\n",
        "\n",
        "class Robot:\n",
        "    def __init__(self,nombre_entrada,color_entrada,peso_entrada):\n",
        "      \n",
        "      self.name=nombre_entrada\n",
        "      self.color=color_entrada\n",
        "      self.weigth=peso_entrada\n",
        "      \n",
        "\n",
        "    def introduce_self(self):\n",
        "      print('me llamo: '+self.name)\n",
        "     "
      ],
      "execution_count": 137,
      "outputs": []
    },
    {
      "cell_type": "code",
      "metadata": {
        "colab": {
          "base_uri": "https://localhost:8080/"
        },
        "id": "7yYn_Tq6GtGi",
        "outputId": "dc95f643-6ca9-4310-908d-e8985b9e5b56"
      },
      "source": [
        "p1 = Persona('Anita','alegre',True)\n",
        "p1.decir_nombre()\n",
        "p1.sentado\n",
        "p1.pararse()\n",
        "p1.sentado"
      ],
      "execution_count": 138,
      "outputs": [
        {
          "output_type": "stream",
          "name": "stdout",
          "text": [
            "mi nombre es Anita\n",
            "Anita se paró\n"
          ]
        },
        {
          "output_type": "execute_result",
          "data": {
            "text/plain": [
              "False"
            ]
          },
          "metadata": {},
          "execution_count": 138
        }
      ]
    },
    {
      "cell_type": "code",
      "metadata": {
        "id": "s-0b1JW1Gxnx"
      },
      "source": [
        "p1 = Persona('alicia','alegre',True)\n",
        "p2 = Persona('Teo','solitario',False)\n",
        "\n",
        "r1 = Robot('arturito','morado',120)\n",
        "r2 = Robot('1100','Blanco',140)"
      ],
      "execution_count": 139,
      "outputs": []
    },
    {
      "cell_type": "code",
      "metadata": {
        "colab": {
          "base_uri": "https://localhost:8080/"
        },
        "id": "jqD9SJ7oGxf5",
        "outputId": "35a0cfbb-a94c-47c3-9b20-9bf77493303c"
      },
      "source": [
        "p1.personalidad\n",
        "p2.sentarse()\n",
        "p2.sentado\n",
        "p2.pararse()"
      ],
      "execution_count": 140,
      "outputs": [
        {
          "output_type": "stream",
          "name": "stdout",
          "text": [
            "Teo se sentó\n",
            "Teo se paró\n"
          ]
        }
      ]
    },
    {
      "cell_type": "markdown",
      "metadata": {
        "id": "XBiottIDnCKC"
      },
      "source": [
        "# **Se pueden meter clases dentro de otras clases**\n",
        "\n",
        "Por ejemplo para este caso se tiene una clase que es persona y otra que es robot, por lo tanto le puedo agregar un atributo a la clase persona diciendo que es un robot con ciertas caracteristicas"
      ]
    },
    {
      "cell_type": "code",
      "metadata": {
        "colab": {
          "base_uri": "https://localhost:8080/",
          "height": 35
        },
        "id": "V1O_hypwm93b",
        "outputId": "308bd423-a161-49a8-acb8-f89ada7c46be"
      },
      "source": [
        "p2.robot = r2\n",
        "p1.robot = r1\n",
        "p2.robot.color"
      ],
      "execution_count": 142,
      "outputs": [
        {
          "output_type": "execute_result",
          "data": {
            "application/vnd.google.colaboratory.intrinsic+json": {
              "type": "string"
            },
            "text/plain": [
              "'Blanco'"
            ]
          },
          "metadata": {},
          "execution_count": 142
        }
      ]
    },
    {
      "cell_type": "code",
      "metadata": {
        "id": "rzhO3JHvG3Fh",
        "colab": {
          "base_uri": "https://localhost:8080/",
          "height": 35
        },
        "outputId": "9e8a1fae-31de-461d-8c89-e009e244e426"
      },
      "source": [
        "r2.persona = p1\n",
        "r2.persona.nombre"
      ],
      "execution_count": 144,
      "outputs": [
        {
          "output_type": "execute_result",
          "data": {
            "application/vnd.google.colaboratory.intrinsic+json": {
              "type": "string"
            },
            "text/plain": [
              "'alicia'"
            ]
          },
          "metadata": {},
          "execution_count": 144
        }
      ]
    },
    {
      "cell_type": "code",
      "metadata": {
        "colab": {
          "base_uri": "https://localhost:8080/"
        },
        "id": "7yisyPhTG2-6",
        "outputId": "bb6fa171-dafa-45f7-ee40-c03ceb5e27a9"
      },
      "source": [
        "p2.robot.persona.robot.introduce_self()"
      ],
      "execution_count": null,
      "outputs": [
        {
          "output_type": "stream",
          "text": [
            "me llamo: arturito\n"
          ],
          "name": "stdout"
        }
      ]
    },
    {
      "cell_type": "code",
      "metadata": {
        "colab": {
          "base_uri": "https://localhost:8080/"
        },
        "id": "xpafRY73G26R",
        "outputId": "22227284-16c7-4013-adae-68823db612d1"
      },
      "source": [
        "r1.persona = p2\n",
        "p2.robot.persona.robot.persona.robot.persona.robot.persona.pararse()"
      ],
      "execution_count": null,
      "outputs": [
        {
          "output_type": "stream",
          "text": [
            "Teo se paró\n"
          ],
          "name": "stdout"
        }
      ]
    },
    {
      "cell_type": "code",
      "metadata": {
        "id": "7gt5oYOUao97"
      },
      "source": [
        "import datetime\n",
        "\n",
        "\n",
        "class User:\n",
        "  def __init__(self, full_name, birthday):\n",
        "    self.name = full_name\n",
        "    self.birthday = birthday\n",
        "\n",
        "    # extract firt and last name\n",
        "    name_pieces = full_name.split(\" \")\n",
        "    self.firt_name = name_pieces[0]\n",
        "    self.last_name = name_pieces[-1]\n",
        "\n",
        "  def Age (self):\n",
        "    x = datetime.datetime.now()\n",
        "    today = datetime.date(x.year,x.month,x.day)\n",
        "    yyyy = int(self.birthday[0:4])\n",
        "    mm = int(self.birthday[4:6])\n",
        "    dd = int(self.birthday[6:8])\n",
        "    bod =datetime.date(yyyy,mm,dd)\n",
        "    age_in_days = (today-bod).days\n",
        "    return age_in_days/365\n",
        "\n"
      ],
      "execution_count": 129,
      "outputs": []
    },
    {
      "cell_type": "code",
      "metadata": {
        "colab": {
          "base_uri": "https://localhost:8080/",
          "height": 35
        },
        "id": "Y_S10Poiblm5",
        "outputId": "e1a1d47d-d616-4d80-a09e-6e806b240ea1"
      },
      "source": [
        "user1  = User(\"Pepito perez\",\"19980104\") # yyyy/mm/dd\n",
        "user1.firt_name\n",
        "user1.last_name\n",
        "user1.birthday\n"
      ],
      "execution_count": 135,
      "outputs": [
        {
          "output_type": "execute_result",
          "data": {
            "application/vnd.google.colaboratory.intrinsic+json": {
              "type": "string"
            },
            "text/plain": [
              "'19980104'"
            ]
          },
          "metadata": {},
          "execution_count": 135
        }
      ]
    },
    {
      "cell_type": "code",
      "metadata": {
        "colab": {
          "base_uri": "https://localhost:8080/"
        },
        "id": "Gu7k6KIJc-27",
        "outputId": "ea418fdd-bc57-4ecf-bfec-f84ed302e3d0"
      },
      "source": [
        "\n",
        "user1.Age()\n",
        "\n",
        "\n"
      ],
      "execution_count": 136,
      "outputs": [
        {
          "output_type": "execute_result",
          "data": {
            "text/plain": [
              "23.852054794520548"
            ]
          },
          "metadata": {},
          "execution_count": 136
        }
      ]
    }
  ]
}