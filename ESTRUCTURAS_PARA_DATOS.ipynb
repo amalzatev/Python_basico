{
  "nbformat": 4,
  "nbformat_minor": 0,
  "metadata": {
    "colab": {
      "name": "Estructuras para datos.ipynb",
      "provenance": [],
      "collapsed_sections": [],
      "include_colab_link": true
    },
    "kernelspec": {
      "name": "python3",
      "display_name": "Python 3"
    },
    "language_info": {
      "name": "python"
    }
  },
  "cells": [
    {
      "cell_type": "markdown",
      "metadata": {
        "id": "view-in-github",
        "colab_type": "text"
      },
      "source": [
        "<a href=\"https://colab.research.google.com/github/amalzatev/Python_basico/blob/main/ESTRUCTURAS_PARA_DATOS.ipynb\" target=\"_parent\"><img src=\"https://colab.research.google.com/assets/colab-badge.svg\" alt=\"Open In Colab\"/></a>"
      ]
    },
    {
      "cell_type": "markdown",
      "metadata": {
        "id": "dWXyvjE4hH_n"
      },
      "source": [
        "#ESTRUCTURAS DE DATOS"
      ]
    },
    {
      "cell_type": "markdown",
      "metadata": {
        "id": "M7RFi0M2hLi9"
      },
      "source": [
        "LISTA: Conjunto de datos que forman los elementos de la lista y pueden ser de cualquier tipo"
      ]
    },
    {
      "cell_type": "code",
      "metadata": {
        "id": "sbYSl3lGhFru"
      },
      "source": [
        "lista=[1,2.5,\"strings\",True]\n",
        "lista[1]   # [] PERMITE ENCONTRAR EL ELEMENTO EN EL INDICE INDICADO"
      ],
      "execution_count": null,
      "outputs": []
    },
    {
      "cell_type": "code",
      "metadata": {
        "id": "1Aojr3TthQBt"
      },
      "source": [
        "numeros=[1,2,3,2,2]\n",
        "numeros.append(4) # .append agrega el elemento que se indique a la lista\n",
        "print(numeros)"
      ],
      "execution_count": null,
      "outputs": []
    },
    {
      "cell_type": "code",
      "metadata": {
        "id": "PKnZSByxhQIe"
      },
      "source": [
        "numeros.pop(2)  # .pop elimina el elemento de la posicion que se indique, .remove el elemento especifico \n",
        "print (numeros)"
      ],
      "execution_count": null,
      "outputs": []
    },
    {
      "cell_type": "code",
      "metadata": {
        "id": "yDXYlQe3hQK8"
      },
      "source": [
        "numeros.count(2)"
      ],
      "execution_count": null,
      "outputs": []
    },
    {
      "cell_type": "code",
      "metadata": {
        "id": "cFDm-n22hQNj"
      },
      "source": [
        "numeros.insert(2,3)\n",
        "print(numeros)"
      ],
      "execution_count": null,
      "outputs": []
    },
    {
      "cell_type": "markdown",
      "metadata": {
        "id": "mL2x4AL-hX-l"
      },
      "source": [
        "TUPLAS "
      ]
    },
    {
      "cell_type": "code",
      "metadata": {
        "id": "nM8KkGzQhaju"
      },
      "source": [
        "B=(1000,5,8,500,200)\n",
        "C=sorted(B)\n",
        "print(C)"
      ],
      "execution_count": null,
      "outputs": []
    },
    {
      "cell_type": "code",
      "metadata": {
        "id": "M0DRmIPIhav9"
      },
      "source": [
        "A=('hola',1,2.5,True)\n",
        "for i in A:\n",
        "  print (i, end=\"   \")"
      ],
      "execution_count": null,
      "outputs": []
    },
    {
      "cell_type": "markdown",
      "metadata": {
        "id": "fZc8wwKehgEN"
      },
      "source": [
        "DICCIONARIO"
      ]
    },
    {
      "cell_type": "code",
      "metadata": {
        "id": "XpFgIVnzha1O"
      },
      "source": [
        "estudiantes={\"alex\":15,\"alejandra\":16}\n",
        "print (estudiantes[\"alex\"])"
      ],
      "execution_count": null,
      "outputs": []
    },
    {
      "cell_type": "code",
      "metadata": {
        "id": "y6pGFHgVhkyd"
      },
      "source": [
        "#agregar un elemento mas al diccionario\n",
        "estudiantes[\"daniel\"]=21\n",
        "print (estudiantes)"
      ],
      "execution_count": null,
      "outputs": []
    },
    {
      "cell_type": "markdown",
      "metadata": {
        "id": "MwyAKeN7hm2N"
      },
      "source": [
        "**CONJUNTOS**"
      ]
    },
    {
      "cell_type": "code",
      "metadata": {
        "id": "PHupJPBYhqRW"
      },
      "source": [
        "conjunto=set()\n",
        "conjunto={1,2,\"HOLA\",2.4}\n",
        "print (conjunto)"
      ],
      "execution_count": null,
      "outputs": []
    },
    {
      "cell_type": "code",
      "metadata": {
        "id": "uqHJkxTZhsvX"
      },
      "source": [
        "conjunto.add(6)\n",
        "print(conjunto)"
      ],
      "execution_count": null,
      "outputs": []
    },
    {
      "cell_type": "code",
      "metadata": {
        "id": "ruuPZYFDhqcm"
      },
      "source": [
        "conjunto.discard(2)\n",
        "print(conjunto)"
      ],
      "execution_count": null,
      "outputs": []
    },
    {
      "cell_type": "code",
      "metadata": {
        "id": "YH3IL1TPhxGl"
      },
      "source": [
        "print(10000 not in conjunto) # necesidad de hayar valores exactos"
      ],
      "execution_count": null,
      "outputs": []
    }
  ]
}